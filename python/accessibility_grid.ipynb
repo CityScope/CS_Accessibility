{
 "cells": [
  {
   "cell_type": "code",
   "execution_count": 1,
   "metadata": {},
   "outputs": [],
   "source": [
    "import pandana as pdna\n",
    "import time\n",
    "import pandas as pd\n",
    "import json\n",
    "import numpy as np\n",
    "import random\n",
    "import pyproj\n",
    "import math\n",
    "import urllib\n",
    "from scipy.interpolate import griddata\n",
    "from scipy import spatial\n",
    "import requests"
   ]
  },
  {
   "cell_type": "code",
   "execution_count": 4,
   "metadata": {},
   "outputs": [],
   "source": [
    "def createGrid(topLeft_lonLat, topEdge_lonLat, utm, wgs, cell_size, nrows, ncols):\n",
    "    \"\"\"\n",
    "    takes the spatial information from cityIO and generates \n",
    "    grid_coords_ll: the coordinates of ach grid cell left to right, top to bottom\n",
    "    G: a network of roads around the cells\n",
    "    \"\"\"\n",
    "    topLeftXY=pyproj.transform(wgs, utm,topLeft_lonLat['lon'], topLeft_lonLat['lat'])\n",
    "    topEdgeXY=pyproj.transform(wgs, utm,topEdge_lonLat['lon'], topEdge_lonLat['lat'])\n",
    "    dydx=(topEdgeXY[1]-topLeftXY[1])/(topEdgeXY[0]-topLeftXY[0])\n",
    "    theta=math.atan((dydx))\n",
    "    cosTheta=math.cos(theta)\n",
    "    sinTheta=math.sin(theta)\n",
    "    x_unRot=[j*cell_size for i in range(nrows) for j in range(ncols)]\n",
    "    y_unRot=[-i*cell_size for i in range(nrows) for j in range(ncols)]\n",
    "    # use the rotation matrix to rotate around the origin\n",
    "    x_rot=[x_unRot[i]*cosTheta -y_unRot[i]*sinTheta for i in range(len(x_unRot))]\n",
    "    y_rot=[x_unRot[i]*sinTheta +y_unRot[i]*cosTheta for i in range(len(x_unRot))]\n",
    "    x_rot_trans=[topLeftXY[0]+x_rot[i] for i in range(len(x_rot))]\n",
    "    y_rot_trans=[topLeftXY[1]+y_rot[i] for i in range(len(x_rot))]\n",
    "    lon_grid, lat_grid=pyproj.transform(utm,wgs,x_rot_trans, y_rot_trans)\n",
    "    grid_coords_ll=[[lon_grid[i], lat_grid[i]] for i in range(len(lon_grid))]      \n",
    "    return grid_coords_ll\n",
    "\n",
    "def add_path(old_net, path):\n",
    "    nodes_df=old_net.nodes_df\n",
    "    edges_df=old_net.edges_df\n",
    "    new_node_nums=[len(nodes_df)+1+i for i in range(len(path))]\n",
    "    new_nodes=[{'x': path[i][0], 'y': path[i][1]} for i in range(len(new_node_nums))]\n",
    "    nodes_df=pd.concat([nodes_df, pd.DataFrame(new_nodes, index=new_node_nums)])\n",
    "    new_edges=[{'from': new_node_nums[i], 'to': new_node_nums[i+1], 'weight': 2} for i in range(len(new_node_nums)-1)]+[{'to': new_node_nums[i], 'from': new_node_nums[i+1], 'weight': 2} for i in range(len(new_node_nums)-1)]\n",
    "    kdtree_nodes=spatial.KDTree(np.array(old_net.nodes_df[['x', 'y']]))\n",
    "    connector_edges=[]\n",
    "    for ni, n in enumerate(new_nodes):\n",
    "        closest_nodes=kdtree_nodes.query([n['x'], n['y']], 3)[1]\n",
    "        connector_edges.extend([{'to': closest_nodes[i], 'from': new_node_nums[ni], 'weight': 0} for i in range(len(closest_nodes))]+[{'from': closest_nodes[i], 'to': new_node_nums[ni], 'weight': 0} for i in range(len(closest_nodes))])\n",
    "    new_edges.extend(connector_edges)\n",
    "    edges_df=pd.concat([edges_df, pd.DataFrame(new_edges, index=[len(edges_df)+i for i in range(len(new_edges))])])\n",
    "    new_network=pdna.network.Network(nodes_df['x'], nodes_df['y'], edges_df['from'], edges_df['to'], edges_df[['weight']], twoway=False)\n",
    "    return new_network\n"
   ]
  },
  {
   "cell_type": "code",
   "execution_count": 5,
   "metadata": {},
   "outputs": [],
   "source": [
    "city='Hamburg'"
   ]
  },
  {
   "cell_type": "code",
   "execution_count": 6,
   "metadata": {},
   "outputs": [],
   "source": [
    "UTM_MAP={'Boston':pyproj.Proj(\"+init=EPSG:32619\"),\n",
    "     'Hamburg':pyproj.Proj(\"+init=EPSG:32632\")}\n",
    "utm=UTM_MAP[city]\n",
    "wgs=pyproj.Proj(\"+init=EPSG:4326\")\n",
    "\n",
    "\n",
    "# #cityIO grid data\n",
    "table_name_map={'Boston':\"mocho\",\n",
    "     'Hamburg':\"grasbrook\"}\n",
    "host='https://cityio.media.mit.edu/'\n",
    "cityIO_grid_url=host+'api/table/'+table_name_map[city]\n",
    "CITYIO_OUTPUT_PATH=host+'api/table/update/'+table_name_map[city]+'/'\n",
    "\n",
    "try:\n",
    "    with urllib.request.urlopen(cityIO_grid_url+'/header/spatial') as url:\n",
    "    #get the latest grid data\n",
    "        cityIO_spatial_data=json.loads(url.read().decode())\n",
    "except:\n",
    "    print('Using static cityIO grid file')\n",
    "    cityIO_data=json.load(open(CITYIO_SAMPLE_PATH))\n",
    "    cityIO_spatial_data=cityIO_data['header']['spatial']\n",
    "\n",
    "# TODO calculate this from cityIO spatial \n",
    "position={'Hamburg':{'topleft':{'lat':53.533681, 'lon':10.011585},\n",
    "                    'topedge':{'lat':53.533433, 'lon':10.012213}},\n",
    "        'Boston': {'topleft':{'lat':42.365980,    'lon': -71.085560},\n",
    "                  'topedge': {'lat':42.3649,   'lon':  -71.082947}}}\n",
    "topLeft_lonLat=position[city]['topleft']\n",
    "topEdge_lonLat=position[city]['topedge']\n",
    "\n",
    "grid_points_ll=createGrid(topLeft_lonLat, topEdge_lonLat, utm, wgs, cityIO_spatial_data['cellSize'], \n",
    "                          cityIO_spatial_data['nrows'], cityIO_spatial_data['ncols'])"
   ]
  },
  {
   "cell_type": "code",
   "execution_count": 7,
   "metadata": {},
   "outputs": [],
   "source": [
    "#load base amenities\n",
    "amenities_df=pd.read_csv(city+'/data/amenities.csv')\n",
    "tags=['education', 'food', 'groceries', 'nightlife']"
   ]
  },
  {
   "cell_type": "code",
   "execution_count": 8,
   "metadata": {},
   "outputs": [],
   "source": [
    "# delta_across= [grid_points_ll[1][0]-grid_points_ll[0][0], grid_points_ll[1][1]-grid_points_ll[0][1]]\n",
    "# delta_down=[grid_points_ll[cityIO_spatial_data['ncols']][0]-grid_points_ll[0][0], grid_points_ll[cityIO_spatial_data['ncols']][1]-grid_points_ll[0][1]]\n",
    "\n",
    "# xs=[grid_points_ll[0][0]+delta_across[0]*i +delta_down[0]*j for j in range(-100, 100) for i in range(-100, 100) ]\n",
    "# ys=[grid_points_ll[0][1]+delta_across[1]*i +delta_down[1]*j for j in range(-100, 100) for i in range(-100, 100) ]"
   ]
  },
  {
   "cell_type": "code",
   "execution_count": 9,
   "metadata": {},
   "outputs": [
    {
     "ename": "KeyError",
     "evalue": "'No object named nodes in the file'",
     "output_type": "error",
     "traceback": [
      "\u001b[0;31m---------------------------------------------------------------------------\u001b[0m",
      "\u001b[0;31mKeyError\u001b[0m                                  Traceback (most recent call last)",
      "\u001b[0;32m<ipython-input-9-023af2445e63>\u001b[0m in \u001b[0;36m<module>\u001b[0;34m\u001b[0m\n\u001b[1;32m      1\u001b[0m \u001b[0;31m#load the pre-prepared integrated pedestrian and transit network\u001b[0m\u001b[0;34m\u001b[0m\u001b[0;34m\u001b[0m\u001b[0;34m\u001b[0m\u001b[0m\n\u001b[0;32m----> 2\u001b[0;31m \u001b[0mnet\u001b[0m\u001b[0;34m=\u001b[0m\u001b[0mpdna\u001b[0m\u001b[0;34m.\u001b[0m\u001b[0mNetwork\u001b[0m\u001b[0;34m.\u001b[0m\u001b[0mfrom_hdf5\u001b[0m\u001b[0;34m(\u001b[0m\u001b[0;34m'./'\u001b[0m\u001b[0;34m+\u001b[0m\u001b[0mcity\u001b[0m\u001b[0;34m+\u001b[0m\u001b[0;34m'/data/combined_network.hdf5'\u001b[0m\u001b[0;34m)\u001b[0m\u001b[0;34m\u001b[0m\u001b[0;34m\u001b[0m\u001b[0m\n\u001b[0m\u001b[1;32m      3\u001b[0m \u001b[0;34m\u001b[0m\u001b[0m\n\u001b[1;32m      4\u001b[0m \u001b[0;31m# precompute the 20 minute horizons to speed up later computations\u001b[0m\u001b[0;34m\u001b[0m\u001b[0;34m\u001b[0m\u001b[0;34m\u001b[0m\u001b[0m\n\u001b[1;32m      5\u001b[0m \u001b[0ms_time\u001b[0m \u001b[0;34m=\u001b[0m \u001b[0mtime\u001b[0m\u001b[0;34m.\u001b[0m\u001b[0mtime\u001b[0m\u001b[0;34m(\u001b[0m\u001b[0;34m)\u001b[0m\u001b[0;34m\u001b[0m\u001b[0;34m\u001b[0m\u001b[0m\n",
      "\u001b[0;32m~/anaconda/envs/urbanaccess/lib/python3.6/site-packages/pandana/network.py\u001b[0m in \u001b[0;36mfrom_hdf5\u001b[0;34m(cls, filename)\u001b[0m\n\u001b[1;32m    105\u001b[0m \u001b[0;34m\u001b[0m\u001b[0m\n\u001b[1;32m    106\u001b[0m         \"\"\"\n\u001b[0;32m--> 107\u001b[0;31m         \u001b[0;32mreturn\u001b[0m \u001b[0mph5\u001b[0m\u001b[0;34m.\u001b[0m\u001b[0mnetwork_from_pandas_hdf5\u001b[0m\u001b[0;34m(\u001b[0m\u001b[0mcls\u001b[0m\u001b[0;34m,\u001b[0m \u001b[0mfilename\u001b[0m\u001b[0;34m)\u001b[0m\u001b[0;34m\u001b[0m\u001b[0;34m\u001b[0m\u001b[0m\n\u001b[0m\u001b[1;32m    108\u001b[0m \u001b[0;34m\u001b[0m\u001b[0m\n\u001b[1;32m    109\u001b[0m     \u001b[0;32mdef\u001b[0m \u001b[0msave_hdf5\u001b[0m\u001b[0;34m(\u001b[0m\u001b[0mself\u001b[0m\u001b[0;34m,\u001b[0m \u001b[0mfilename\u001b[0m\u001b[0;34m,\u001b[0m \u001b[0mrm_nodes\u001b[0m\u001b[0;34m=\u001b[0m\u001b[0;32mNone\u001b[0m\u001b[0;34m)\u001b[0m\u001b[0;34m:\u001b[0m\u001b[0;34m\u001b[0m\u001b[0;34m\u001b[0m\u001b[0m\n",
      "\u001b[0;32m~/anaconda/envs/urbanaccess/lib/python3.6/site-packages/pandana/loaders/pandash5.py\u001b[0m in \u001b[0;36mnetwork_from_pandas_hdf5\u001b[0;34m(cls, filename)\u001b[0m\n\u001b[1;32m     70\u001b[0m     \"\"\"\n\u001b[1;32m     71\u001b[0m     \u001b[0;32mwith\u001b[0m \u001b[0mpd\u001b[0m\u001b[0;34m.\u001b[0m\u001b[0mHDFStore\u001b[0m\u001b[0;34m(\u001b[0m\u001b[0mfilename\u001b[0m\u001b[0;34m)\u001b[0m \u001b[0;32mas\u001b[0m \u001b[0mstore\u001b[0m\u001b[0;34m:\u001b[0m\u001b[0;34m\u001b[0m\u001b[0;34m\u001b[0m\u001b[0m\n\u001b[0;32m---> 72\u001b[0;31m         \u001b[0mnodes\u001b[0m \u001b[0;34m=\u001b[0m \u001b[0mstore\u001b[0m\u001b[0;34m[\u001b[0m\u001b[0;34m'nodes'\u001b[0m\u001b[0;34m]\u001b[0m\u001b[0;34m\u001b[0m\u001b[0;34m\u001b[0m\u001b[0m\n\u001b[0m\u001b[1;32m     73\u001b[0m         \u001b[0medges\u001b[0m \u001b[0;34m=\u001b[0m \u001b[0mstore\u001b[0m\u001b[0;34m[\u001b[0m\u001b[0;34m'edges'\u001b[0m\u001b[0;34m]\u001b[0m\u001b[0;34m\u001b[0m\u001b[0;34m\u001b[0m\u001b[0m\n\u001b[1;32m     74\u001b[0m         \u001b[0mtwo_way\u001b[0m \u001b[0;34m=\u001b[0m \u001b[0mstore\u001b[0m\u001b[0;34m[\u001b[0m\u001b[0;34m'two_way'\u001b[0m\u001b[0;34m]\u001b[0m\u001b[0;34m[\u001b[0m\u001b[0;36m0\u001b[0m\u001b[0;34m]\u001b[0m\u001b[0;34m\u001b[0m\u001b[0;34m\u001b[0m\u001b[0m\n",
      "\u001b[0;32m~/anaconda/envs/urbanaccess/lib/python3.6/site-packages/pandas/io/pytables.py\u001b[0m in \u001b[0;36m__getitem__\u001b[0;34m(self, key)\u001b[0m\n\u001b[1;32m    502\u001b[0m \u001b[0;34m\u001b[0m\u001b[0m\n\u001b[1;32m    503\u001b[0m     \u001b[0;32mdef\u001b[0m \u001b[0m__getitem__\u001b[0m\u001b[0;34m(\u001b[0m\u001b[0mself\u001b[0m\u001b[0;34m,\u001b[0m \u001b[0mkey\u001b[0m\u001b[0;34m)\u001b[0m\u001b[0;34m:\u001b[0m\u001b[0;34m\u001b[0m\u001b[0;34m\u001b[0m\u001b[0m\n\u001b[0;32m--> 504\u001b[0;31m         \u001b[0;32mreturn\u001b[0m \u001b[0mself\u001b[0m\u001b[0;34m.\u001b[0m\u001b[0mget\u001b[0m\u001b[0;34m(\u001b[0m\u001b[0mkey\u001b[0m\u001b[0;34m)\u001b[0m\u001b[0;34m\u001b[0m\u001b[0;34m\u001b[0m\u001b[0m\n\u001b[0m\u001b[1;32m    505\u001b[0m \u001b[0;34m\u001b[0m\u001b[0m\n\u001b[1;32m    506\u001b[0m     \u001b[0;32mdef\u001b[0m \u001b[0m__setitem__\u001b[0m\u001b[0;34m(\u001b[0m\u001b[0mself\u001b[0m\u001b[0;34m,\u001b[0m \u001b[0mkey\u001b[0m\u001b[0;34m,\u001b[0m \u001b[0mvalue\u001b[0m\u001b[0;34m)\u001b[0m\u001b[0;34m:\u001b[0m\u001b[0;34m\u001b[0m\u001b[0;34m\u001b[0m\u001b[0m\n",
      "\u001b[0;32m~/anaconda/envs/urbanaccess/lib/python3.6/site-packages/pandas/io/pytables.py\u001b[0m in \u001b[0;36mget\u001b[0;34m(self, key)\u001b[0m\n\u001b[1;32m    692\u001b[0m         \u001b[0mgroup\u001b[0m \u001b[0;34m=\u001b[0m \u001b[0mself\u001b[0m\u001b[0;34m.\u001b[0m\u001b[0mget_node\u001b[0m\u001b[0;34m(\u001b[0m\u001b[0mkey\u001b[0m\u001b[0;34m)\u001b[0m\u001b[0;34m\u001b[0m\u001b[0;34m\u001b[0m\u001b[0m\n\u001b[1;32m    693\u001b[0m         \u001b[0;32mif\u001b[0m \u001b[0mgroup\u001b[0m \u001b[0;32mis\u001b[0m \u001b[0;32mNone\u001b[0m\u001b[0;34m:\u001b[0m\u001b[0;34m\u001b[0m\u001b[0;34m\u001b[0m\u001b[0m\n\u001b[0;32m--> 694\u001b[0;31m             \u001b[0;32mraise\u001b[0m \u001b[0mKeyError\u001b[0m\u001b[0;34m(\u001b[0m\u001b[0;34m'No object named {key} in the file'\u001b[0m\u001b[0;34m.\u001b[0m\u001b[0mformat\u001b[0m\u001b[0;34m(\u001b[0m\u001b[0mkey\u001b[0m\u001b[0;34m=\u001b[0m\u001b[0mkey\u001b[0m\u001b[0;34m)\u001b[0m\u001b[0;34m)\u001b[0m\u001b[0;34m\u001b[0m\u001b[0;34m\u001b[0m\u001b[0m\n\u001b[0m\u001b[1;32m    695\u001b[0m         \u001b[0;32mreturn\u001b[0m \u001b[0mself\u001b[0m\u001b[0;34m.\u001b[0m\u001b[0m_read_group\u001b[0m\u001b[0;34m(\u001b[0m\u001b[0mgroup\u001b[0m\u001b[0;34m)\u001b[0m\u001b[0;34m\u001b[0m\u001b[0;34m\u001b[0m\u001b[0m\n\u001b[1;32m    696\u001b[0m \u001b[0;34m\u001b[0m\u001b[0m\n",
      "\u001b[0;31mKeyError\u001b[0m: 'No object named nodes in the file'"
     ]
    }
   ],
   "source": [
    "#load the pre-prepared integrated pedestrian and transit network\n",
    "net=pdna.Network.from_hdf5('./'+city+'/data/combined_network.hdf5')\n",
    "\n",
    "# precompute the 20 minute horizons to speed up later computations\n",
    "s_time = time.time()\n",
    "net.precompute(20)\n",
    "print('Took {:,.2f} seconds'.format(time.time() - s_time))\n",
    "\n",
    "dist_to_second={}\n",
    "for t in tags:\n",
    "    net.set_pois(t, 20, 2, amenities_df.loc[amenities_df[t]==1, 'x'], amenities_df.loc[amenities_df[t]==1, 'y'])\n",
    "    dist_to_second[t]=net.nearest_pois(20, t, num_pois=2).loc[:,2]\n",
    "    \n",
    "nodes_x=net.nodes_df['x'].values\n",
    "nodes_y=net.nodes_df['y'].values\n",
    "points=[[nodes_x[i], nodes_y[i]] for i in range(len(nodes_y))]\n",
    "\n"
   ]
  },
  {
   "cell_type": "code",
   "execution_count": 8,
   "metadata": {
    "collapsed": true
   },
   "outputs": [],
   "source": [
    "kdtree_nodes=spatial.KDTree(np.column_stack((nodes_x, nodes_y)))"
   ]
  },
  {
   "cell_type": "code",
   "execution_count": 9,
   "metadata": {
    "collapsed": true
   },
   "outputs": [],
   "source": [
    "min_x, min_y= min(nodes_x), min(nodes_y)\n",
    "max_x, max_y= max(nodes_x), max(nodes_y)\n",
    "x = (np.linspace(min_x,max_x,50))\n",
    "y =  (np.linspace(min_y,max_y,50))\n",
    "xs,ys = np.meshgrid(x,y)\n",
    "xs=xs.reshape(xs.shape[0]*xs.shape[1])\n",
    "ys=ys.reshape(ys.shape[0]*ys.shape[1])"
   ]
  },
  {
   "cell_type": "code",
   "execution_count": 10,
   "metadata": {
    "collapsed": true
   },
   "outputs": [],
   "source": [
    "# grids={}\n",
    "# for t in tags:\n",
    "#     values=[dist_to_second[t].iloc[i] for i in range(len(nodes_y))]\n",
    "#     grids[t] = griddata(np.array(points), np.array(values), (xs, ys), method='nearest')\n",
    "#     grids[t][np.isnan(grids[t])]=20"
   ]
  },
  {
   "cell_type": "code",
   "execution_count": 11,
   "metadata": {},
   "outputs": [
    {
     "name": "stderr",
     "output_type": "stream",
     "text": [
      "/Users/doorleyr/anaconda/envs/urbanaccess/lib/python3.6/site-packages/pandana/network.py:371: FutureWarning: Method .as_matrix will be removed in a future version. Use .values instead.\n",
      "  distances, indexes = self.kdtree.query(xys.as_matrix())\n"
     ]
    }
   ],
   "source": [
    "nearest_nodes=net.get_node_ids(xs, ys, mapping_distance=0.001)"
   ]
  },
  {
   "cell_type": "code",
   "execution_count": 12,
   "metadata": {
    "collapsed": true
   },
   "outputs": [],
   "source": [
    "grids={}\n",
    "for t in tags:\n",
    "    grids[t]= [20 for i in range(len(xs))]\n",
    "    for i, v in nearest_nodes.items():\n",
    "        grids[t][i]=dist_to_second[t].loc[v]\n",
    "# grids={}\n",
    "# for t in tags:\n",
    "#     grid=[dist_to_second[t].loc[nearest_nodes[i]] for i in range(len(nearest_nodes))]\n",
    "# #     for i in range(len(xs)):\n",
    "# #         grid.extend([dist_to_second[t].loc[nearest_nodes[i]]])\n",
    "#     grids[t]=grid"
   ]
  },
  {
   "cell_type": "code",
   "execution_count": 13,
   "metadata": {
    "collapsed": true
   },
   "outputs": [],
   "source": [
    "output_geojson={\n",
    " \"type\": \"FeatureCollection\",\n",
    " \"features\": []\n",
    "}\n",
    "\n",
    "for i in range(len(xs)):\n",
    "#     if not np.isnan(grids['food'][i]):\n",
    "        geom={\"type\": \"Point\",\"coordinates\": [xs[i],ys[i]]}\n",
    "        props={t: 1- grids[t][i]/20 for t in tags}\n",
    "        feat={\n",
    "         \"type\": \"Feature\",\n",
    "         \"properties\": props,\n",
    "         \"geometry\": geom\n",
    "        }\n",
    "        output_geojson[\"features\"].append(feat)\n",
    "# json.dump(output_geojson, open('./Hamburg/output_grid_geojson_Ham.geojson', 'w'))\n",
    "destination_address=CITYIO_OUTPUT_PATH+'access'"
   ]
  },
  {
   "cell_type": "code",
   "execution_count": 16,
   "metadata": {
    "collapsed": true
   },
   "outputs": [],
   "source": [
    "json.dump(output_geojson, open('/Users/doorleyr/Desktop/output_grid_geojson_Ham.geojson', 'w'))"
   ]
  },
  {
   "cell_type": "code",
   "execution_count": null,
   "metadata": {
    "collapsed": true
   },
   "outputs": [],
   "source": [
    "r = requests.post(destination_address, data = json.dumps(output_geojson))"
   ]
  },
  {
   "cell_type": "code",
   "execution_count": 14,
   "metadata": {},
   "outputs": [
    {
     "data": {
      "text/plain": [
       "<Response [200]>"
      ]
     },
     "execution_count": 14,
     "metadata": {},
     "output_type": "execute_result"
    }
   ],
   "source": [
    "r"
   ]
  },
  {
   "cell_type": "code",
   "execution_count": null,
   "metadata": {
    "collapsed": true
   },
   "outputs": [],
   "source": []
  }
 ],
 "metadata": {
  "anaconda-cloud": {},
  "kernelspec": {
   "display_name": "Python 3",
   "language": "python",
   "name": "python3"
  },
  "language_info": {
   "codemirror_mode": {
    "name": "ipython",
    "version": 3
   },
   "file_extension": ".py",
   "mimetype": "text/x-python",
   "name": "python",
   "nbconvert_exporter": "python",
   "pygments_lexer": "ipython3",
   "version": "3.6.7"
  }
 },
 "nbformat": 4,
 "nbformat_minor": 2
}
