{
 "cells": [
  {
   "cell_type": "code",
   "execution_count": 1,
   "metadata": {
    "collapsed": true
   },
   "outputs": [],
   "source": [
    "import pandas as pd\n",
    "import pandana as pdna\n",
    "import time\n",
    "import os\n",
    "import json\n",
    "import urllib\n",
    "from shapely.geometry import Point, shape\n",
    "\n",
    "import urbanaccess as ua\n",
    "from urbanaccess.config import settings\n",
    "from urbanaccess.gtfsfeeds import feeds\n",
    "from urbanaccess import gtfsfeeds\n",
    "from urbanaccess.gtfs.gtfsfeeds_dataframe import gtfsfeeds_dfs\n",
    "from urbanaccess.network import ua_network, load_network\n",
    "\n",
    "import warnings\n",
    "import matplotlib.cbook\n",
    "warnings.filterwarnings(\"ignore\",category=matplotlib.cbook.mplDeprecation)"
   ]
  },
  {
   "cell_type": "code",
   "execution_count": 8,
   "metadata": {
    "collapsed": true
   },
   "outputs": [],
   "source": [
    "def rename_nodes(nodes_df, edges_df, node_id_name, to_name, from_name):\n",
    "    nodes_df['old_node_id']=nodes_df[node_id_name].copy()\n",
    "    nodes_df['id_int']=range(1, len(nodes_df)+1)\n",
    "    node_name_map={nodes_df.iloc[i]['old_node_id']: i+1 for i in range(len(nodes_df))}\n",
    "    edges_df['from_int']=edges_df.apply(lambda row: node_name_map[row[from_name]], axis=1)\n",
    "    edges_df['to_int']=edges_df.apply(lambda row: node_name_map[row[to_name]], axis=1)\n",
    "    return nodes_df, edges_df, node_name_map"
   ]
  },
  {
   "cell_type": "code",
   "execution_count": 3,
   "metadata": {
    "collapsed": true
   },
   "outputs": [],
   "source": [
    "city='Budapest'\n",
    "\n",
    "configs=json.load(open('configs.json'))\n",
    "city_configs=configs[city]\n"
   ]
  },
  {
   "cell_type": "markdown",
   "metadata": {},
   "source": [
    "# OSM Data"
   ]
  },
  {
   "cell_type": "code",
   "execution_count": 4,
   "metadata": {},
   "outputs": [
    {
     "name": "stdout",
     "output_type": "stream",
     "text": [
      "Requesting network data within bounding box from Overpass API in 1 request(s)\n",
      "Posting to http://www.overpass-api.de/api/interpreter with timeout=180, \"{'data': '[out:json][timeout:180];(way[\"highway\"][\"highway\"!~\"motor|proposed|construction|abandoned|platform|raceway\"][\"foot\"!~\"no\"][\"pedestrians\"!~\"no\"](47.38000000,18.95000000,47.52000000,19.14000000);>;);out;'}\"\n",
      "Downloaded 24,761.0KB from www.overpass-api.de in 7.50 seconds\n",
      "Downloaded OSM network data within bounding box from Overpass API in 1 request(s) and 8.49 seconds\n",
      "Returning OSM data with 157,574 nodes and 41,305 ways...\n",
      "Edge node pairs completed. Took 138.79 seconds\n",
      "Returning processed graph with 51,259 nodes and 150,102 edges...\n",
      "Completed OSM data download and Pandana node and edge table creation in 153.47 seconds\n",
      "checking for low connectivity nodes...\n",
      "166 out of 51,259 nodes (0.32 percent of total) were identified as having low connectivity and have been removed.\n",
      "Completed OSM data download and graph node and edge table creation in 655.85 seconds\n",
      "Created OSM network with travel time impedance using a travel speed of 3 MPH. Took 0.31 seconds\n"
     ]
    },
    {
     "data": {
      "text/plain": [
       "<urbanaccess.network.urbanaccess_network at 0x11ac44240>"
      ]
     },
     "execution_count": 4,
     "metadata": {},
     "output_type": "execute_result"
    }
   ],
   "source": [
    "nodes, edges = ua.osm.load.ua_network_from_bbox(bbox=tuple(city_configs['bboxes']['all_zones']),\n",
    "                                                remove_lcn=True)\n",
    "remove_link_types=[\n",
    " 'bridleway',\n",
    " 'services',\n",
    " 'steps',\n",
    " 'footway',\n",
    " 'cycleway',\n",
    " 'service',\n",
    " 'traffic_island',\n",
    " 'unclassified',\n",
    " 'track',\n",
    " 'path'\n",
    "]\n",
    "edges=edges.loc[~edges['highway'].isin(remove_link_types)]\n",
    "all_nodes_included=set(list(edges['from'].values)+list(edges['to'].values))\n",
    "nodes=nodes.loc[nodes['id'].isin(all_nodes_included)]\n",
    "ua.osm.network.create_osm_net(osm_edges=edges,\n",
    "                              osm_nodes=nodes,\n",
    "                              travel_speed_mph=3)\n",
    "nodes.to_csv('./'+city+'/data/osm_ped_network_nodes.csv', index=False)\n",
    "edges.to_csv('./'+city+'/data/osm_ped_network_edges.csv', index=False)"
   ]
  },
  {
   "cell_type": "code",
   "execution_count": 9,
   "metadata": {
    "collapsed": true
   },
   "outputs": [],
   "source": [
    "# edges=pd.read_csv('./'+city+'/data/osm_ped_network_edges.csv')\n",
    "# nodes=pd.read_csv('./'+city+'/data/osm_ped_network_nodes.csv')\n"
   ]
  },
  {
   "cell_type": "markdown",
   "metadata": {},
   "source": [
    "# GFTS Data"
   ]
  },
  {
   "cell_type": "code",
   "execution_count": 11,
   "metadata": {},
   "outputs": [
    {
     "name": "stdout",
     "output_type": "stream",
     "text": [
      "Ped network only\n"
     ]
    }
   ],
   "source": [
    "# GTFS Data\n",
    "if 'feed_dicts' in city_configs:\n",
    "    # if gtfs data available, create and save the combined network\n",
    "    feeds.add_feed(add_dict=city_configs['feed_dicts'])\n",
    "\n",
    "    os.chdir('./python/'+city)\n",
    "    gtfsfeeds.download()\n",
    "\n",
    "    validation = True\n",
    "    verbose = True\n",
    "    remove_stops_outsidebbox = True\n",
    "    append_definitions = True\n",
    "\n",
    "    loaded_feeds = ua.gtfs.load.gtfsfeed_to_df(gtfsfeed_path=None,\n",
    "                                           validation=validation,\n",
    "                                           verbose=verbose,\n",
    "                                           bbox=bbox,\n",
    "                                           remove_stops_outsidebbox=remove_stops_outsidebbox,\n",
    "                                           append_definitions=append_definitions)\n",
    "\n",
    "    ua.gtfs.network.create_transit_net(gtfsfeeds_dfs=loaded_feeds,\n",
    "                                   day='monday',\n",
    "                                   timerange=['07:00:00', '10:00:00'],\n",
    "                                   calendar_dates_lookup=None)\n",
    "\n",
    "    urbanaccess_net = ua.network.ua_network\n",
    "\n",
    "    #integrate the networks\n",
    "    ua.network.integrate_network(urbanaccess_network=urbanaccess_net,\n",
    "                             headways=False,\n",
    "                             urbanaccess_gtfsfeeds_df=loaded_feeds)\n",
    "    urbanaccess_net.net_nodes.to_csv('./'+city+'/data/comb_network_nodes.csv')\n",
    "    urbanaccess_net.net_edges.to_csv('./'+city+'/data/comb_network_edges.csv')\n",
    "else:\n",
    "    print('Ped network only')\n",
    "    # otherwise, reformat the ped network to the urbanaccess format and save that\n",
    "    edges['weight']=edges.apply(lambda row: row['distance']/(5000/(60)), axis=1) # 5 km/hr\n",
    "    nodes, edges, _=rename_nodes(nodes, edges, 'id', 'to', 'from')\n",
    "    edges.to_csv('./'+city+'/data/comb_network_edges.csv')\n",
    "    nodes.to_csv('./'+city+'/data/comb_network_nodes.csv')\n",
    "    "
   ]
  },
  {
   "cell_type": "code",
   "execution_count": null,
   "metadata": {
    "collapsed": true
   },
   "outputs": [],
   "source": []
  }
 ],
 "metadata": {
  "anaconda-cloud": {},
  "kernelspec": {
   "display_name": "Python 3",
   "language": "python",
   "name": "python3"
  },
  "language_info": {
   "codemirror_mode": {
    "name": "ipython",
    "version": 3
   },
   "file_extension": ".py",
   "mimetype": "text/x-python",
   "name": "python",
   "nbconvert_exporter": "python",
   "pygments_lexer": "ipython3",
   "version": "3.6.7"
  }
 },
 "nbformat": 4,
 "nbformat_minor": 2
}
